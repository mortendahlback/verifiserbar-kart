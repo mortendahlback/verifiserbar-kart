{
  "nbformat": 4,
  "nbformat_minor": 0,
  "metadata": {
    "colab": {
      "provenance": [],
      "include_colab_link": true
    },
    "kernelspec": {
      "name": "python3",
      "display_name": "Python 3"
    },
    "language_info": {
      "name": "python"
    }
  },
  "cells": [
    {
      "cell_type": "markdown",
      "metadata": {
        "id": "view-in-github",
        "colab_type": "text"
      },
      "source": [
        "<a href=\"https://colab.research.google.com/github/mortendahlback/verifiserbar-kart/blob/main/Verifiseringskart_midt%C3%B8sten.ipynb\" target=\"_parent\"><img src=\"https://colab.research.google.com/assets/colab-badge.svg\" alt=\"Open In Colab\"/></a>"
      ]
    },
    {
      "cell_type": "code",
      "execution_count": null,
      "metadata": {
        "id": "jgcgYvsIITdy"
      },
      "outputs": [],
      "source": [
        "#Importer nødvendige bibliotek\n",
        "import pandas as pd\n",
        "import folium\n",
        "from sklearn.neighbors import KDTree\n",
        "import numpy as np"
      ]
    },
    {
      "cell_type": "code",
      "source": [
        "from google.colab import drive\n",
        "drive.mount('/content/drive')"
      ],
      "metadata": {
        "colab": {
          "base_uri": "https://localhost:8080/"
        },
        "id": "--wcjEq38Q_X",
        "outputId": "6bf6dd4e-69fe-420a-a8a6-612826240241"
      },
      "execution_count": null,
      "outputs": [
        {
          "output_type": "stream",
          "name": "stdout",
          "text": [
            "Mounted at /content/drive\n"
          ]
        }
      ]
    },
    {
      "cell_type": "code",
      "source": [
        "#Hent data fra Google Sheet og konverter til pandas dataframe\n",
        "#Importer nødvendige funksjoner og autentiser brukeren din\n",
        "from google.colab import auth\n",
        "auth.authenticate_user()\n",
        "\n",
        "import gspread\n",
        "from google.auth import default\n",
        "creds, _ = default()\n",
        "\n",
        "gc = gspread.authorize(creds)\n",
        "\n",
        "#Åpne regneark og arkfane\n",
        "worksheet = gc.open('Verifiseringsdatabase')\n",
        "worksheet = worksheet.worksheet('Midtøsten-kart')\n",
        "\n",
        "# Hent liste av rader fra arkfanen\n",
        "rows = worksheet.get_all_values()\n",
        "\n",
        "#Gjør om til pandas df og konverter koordinater til numerisk format\n",
        "df = pd.DataFrame.from_records(rows[1:],columns=rows[0])\n",
        "df[['lat', 'long']] = df[['lat', 'long']].apply(pd.to_numeric)\n",
        "df.dropna(how='any', inplace=True)"
      ],
      "metadata": {
        "id": "snxKaK_YI4VQ"
      },
      "execution_count": null,
      "outputs": []
    },
    {
      "cell_type": "code",
      "source": [
        "#Valgfri: Skriv ut kolonner for feilsøking\n",
        "for col in df.columns:\n",
        "  print(col)"
      ],
      "metadata": {
        "id": "kLaUjCBWcJGT",
        "colab": {
          "base_uri": "https://localhost:8080/"
        },
        "outputId": "40b47e4a-ccd8-45f4-d3f2-77cfc0d39591"
      },
      "execution_count": null,
      "outputs": [
        {
          "output_type": "stream",
          "name": "stdout",
          "text": [
            "ID\n",
            "dato_hendelse\n",
            "lat\n",
            "long\n",
            "maps_url\n",
            "tittel\n",
            "oppsummering\n",
            "bilde_popup\n",
            "bildelenke\n"
          ]
        }
      ]
    },
    {
      "cell_type": "code",
      "source": [
        "df.head"
      ],
      "metadata": {
        "id": "OoKiftOw0eiS"
      },
      "execution_count": null,
      "outputs": []
    },
    {
      "cell_type": "code",
      "source": [
        "# Bruk KDTree for å finne punktet med høyest tetthet\n",
        "coordinates = df[['lat', 'long']].values\n",
        "tree = KDTree(coordinates)\n",
        "\n",
        "# Finn avstandene til de nærmeste naboene\n",
        "distances, indices = tree.query(coordinates, k=2)\n",
        "\n",
        "# Beregn gjennomsnittlig avstand til nærmeste nabo\n",
        "avg_distances = np.mean(distances[:, 1], axis=0)\n",
        "\n",
        "# Finn indeksen til punktet med lavest gjennomsnittlig avstand (høyest tetthet)\n",
        "central_index = np.argmin(avg_distances)\n",
        "\n",
        "# Bruk koordinatene til dette punktet som sentralpunkt\n",
        "central_point = coordinates[central_index]"
      ],
      "metadata": {
        "id": "VkB0nqStAdAb"
      },
      "execution_count": null,
      "outputs": []
    },
    {
      "cell_type": "code",
      "source": [
        "#Definer en popup-mal med elementer fra celler i regnearket\n",
        "\n",
        "def create_popup(row):\n",
        "    html = f\"\"\"\n",
        "    <div style=\"width: 200px;\">\n",
        "        <h4 style=\"font-family:Helvetica;\">{row['tittel']}</h4>\n",
        "        <a href=\"{row['bildelenke']}\", target=\"_blank\">\n",
        "        <img src=\"{row['bilde_popup']}\" style=\"width:100%;\"></a>\n",
        "        <p style=\"font-family:Helvetica;\">{row['oppsummering']}</p>\n",
        "        <p style=\"font-family:Helvetica;\"><i>Tidspunkt:</i> {row['dato_hendelse']}</p>\n",
        "        <a href=\"{row['maps_url']}\", target=\"_blank\">\n",
        "        <p style=\"font-family:Helvetica;\">Se i Google Maps</p></a>\n",
        "    </div>\n",
        "    \"\"\"\n",
        "    return folium.Popup(html, max_width=200)"
      ],
      "metadata": {
        "id": "qr3XhxUGJHkR"
      },
      "execution_count": null,
      "outputs": []
    },
    {
      "cell_type": "code",
      "source": [
        "#Generer kartet\n",
        "# Opprett kartet i folium med tilesett fra CartoDB\n",
        "map_file = folium.Map(location=central_point, tiles='CartoDBPositron', zoom_start=11)\n",
        "\n",
        "# Legg til egendefinert markørikon\n",
        "icon_path = '/content/drive/Shareddrives/verifisering - Krigen i Israel Gaza/KARTMASKIN/KARTMASKIN Midtøsten/Colab-kart/roundicon.png'\n",
        "\n",
        "#Generer en markør for hver rad i regnearket\n",
        "for _, row in df.iterrows():\n",
        "    popup = create_popup(row)\n",
        "    icon = folium.features.CustomIcon(icon_path, icon_size=(30, 30))\n",
        "    folium.Marker([row['lat'], row['long']], popup=popup, icon=icon).add_to(map_file)\n",
        "\n",
        "# Lagre kartet som en html-fil\n",
        "map_file_path = '/content/drive/Shareddrives/verifisering - Krigen i Israel Gaza/KARTMASKIN/KARTMASKIN Midtøsten/Colab-kart/midtøsten_kart.html'\n",
        "map_file.save(map_file_path)"
      ],
      "metadata": {
        "id": "SsGknaF4La1N"
      },
      "execution_count": null,
      "outputs": []
    }
  ]
}